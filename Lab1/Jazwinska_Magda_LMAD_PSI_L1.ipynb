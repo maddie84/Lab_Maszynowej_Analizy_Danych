{
 "cells": [
  {
   "cell_type": "markdown",
   "metadata": {},
   "source": [
    "1.1. Należy wczytać dane."
   ]
  },
  {
   "cell_type": "code",
   "execution_count": 2,
   "metadata": {},
   "outputs": [
    {
     "ename": "ModuleNotFoundError",
     "evalue": "No module named 'pandas'",
     "output_type": "error",
     "traceback": [
      "\u001b[1;31m---------------------------------------------------------------------------\u001b[0m",
      "\u001b[1;31mModuleNotFoundError\u001b[0m                       Traceback (most recent call last)",
      "Cell \u001b[1;32mIn[2], line 1\u001b[0m\n\u001b[1;32m----> 1\u001b[0m \u001b[38;5;28;01mimport\u001b[39;00m \u001b[38;5;21;01mpandas\u001b[39;00m \u001b[38;5;28;01mas\u001b[39;00m \u001b[38;5;21;01mpd\u001b[39;00m\n\u001b[0;32m      2\u001b[0m \u001b[38;5;28;01mimport\u001b[39;00m \u001b[38;5;21;01mmatplotlib\u001b[39;00m\u001b[38;5;21;01m.\u001b[39;00m\u001b[38;5;21;01mpyplot\u001b[39;00m \u001b[38;5;28;01mas\u001b[39;00m \u001b[38;5;21;01mplt\u001b[39;00m\n\u001b[0;32m      3\u001b[0m \u001b[38;5;28;01mfrom\u001b[39;00m \u001b[38;5;21;01msklearn\u001b[39;00m\u001b[38;5;21;01m.\u001b[39;00m\u001b[38;5;21;01mpreprocessing\u001b[39;00m \u001b[38;5;28;01mimport\u001b[39;00m MinMaxScaler, StandardScaler\n",
      "\u001b[1;31mModuleNotFoundError\u001b[0m: No module named 'pandas'"
     ]
    }
   ],
   "source": [
    "import pandas as pd\n",
    "import matplotlib.pyplot as plt\n",
    "from sklearn.preprocessing import MinMaxScaler, StandardScaler\n",
    "\n",
    "df = pd.read_csv('iris.csv')"
   ]
  },
  {
   "cell_type": "markdown",
   "metadata": {},
   "source": [
    "1.2. Sprawdzić podstawowe statystyki."
   ]
  },
  {
   "cell_type": "code",
   "execution_count": null,
   "metadata": {},
   "outputs": [],
   "source": [
    "statystyki = df.describe()\n",
    "\n",
    "print(statystyki)"
   ]
  },
  {
   "cell_type": "markdown",
   "metadata": {},
   "source": [
    "1.3. Sprawdzić kompletność danych."
   ]
  },
  {
   "cell_type": "code",
   "execution_count": null,
   "metadata": {},
   "outputs": [],
   "source": [
    "brakujace = df.isnull().sum()\n",
    "print(brakujace)\n",
    "\n",
    "print(df.isnull().values.any())"
   ]
  },
  {
   "cell_type": "markdown",
   "metadata": {},
   "source": [
    "1.4. Przeprowadzić normalizację danych w zakresie [0,1] na kolumnach (z wyłączeniem\n",
    "kolumny species)."
   ]
  },
  {
   "cell_type": "code",
   "execution_count": null,
   "metadata": {},
   "outputs": [],
   "source": [
    "# Wyłączenie kolumny species do normalizacji\n",
    "kolumny_do_normalizacji = df.columns.drop('species')\n",
    "\n",
    "scaler = MinMaxScaler()\n",
    "\n",
    "df[kolumny_do_normalizacji] = scaler.fit_transform(df[kolumny_do_normalizacji])\n",
    "\n",
    "print(df.head())"
   ]
  },
  {
   "cell_type": "markdown",
   "metadata": {},
   "source": [
    "1.5. Przeprowadzić normalizację danych w zakresie [-1,1] na kolumnach (z wyłączeniem\n",
    "kolumny species)"
   ]
  },
  {
   "cell_type": "code",
   "execution_count": null,
   "metadata": {},
   "outputs": [],
   "source": [
    "scaler = MinMaxScaler(feature_range=(-1, 1))\n",
    "\n",
    "df[kolumny_do_normalizacji] = scaler.fit_transform(df[kolumny_do_normalizacji])\n",
    "\n",
    "print(df.head())"
   ]
  },
  {
   "cell_type": "markdown",
   "metadata": {},
   "source": [
    "1.6. Przeprowadzić standaryzację danych na kolumnach (z wyłączeniem kolumny\n",
    "species)."
   ]
  },
  {
   "cell_type": "code",
   "execution_count": null,
   "metadata": {},
   "outputs": [],
   "source": [
    "scaler = StandardScaler()\n",
    "\n",
    "kolumny_do_standaryzacji = df.columns.drop('species')\n",
    "\n",
    "df[kolumny_do_standaryzacji] = scaler.fit_transform(df[kolumny_do_standaryzacji])\n",
    "\n",
    "print(df.head())"
   ]
  },
  {
   "cell_type": "markdown",
   "metadata": {},
   "source": [
    "1.7. Narysować wykres zbiorczy, składający się z 4 wykresów, zależności długości płatka\n",
    "[cm] od szerokości płatka [cm] różnicowany na podstawie gatunku dla danych\n",
    "pierwotnych, znormalizowanych w zakresie [0,1], znormalizowanych w zakresie [-\n",
    "1,1] oraz standaryzowanych."
   ]
  },
  {
   "cell_type": "code",
   "execution_count": null,
   "metadata": {},
   "outputs": [],
   "source": [
    "# Zbiorcze dane pierwotne\n",
    "fig, axs = plt.subplots(2, 2, figsize=(12, 10))\n",
    "\n",
    "# Pierwotne dane\n",
    "axs[0, 0].scatter(df['petal_width'], df['petal_length'], c=df['species'].astype('category').cat.codes, cmap='viridis', alpha=0.5)\n",
    "axs[0, 0].set_title('Dane pierwotne')\n",
    "axs[0, 0].set_xlabel('Szerokość płatka [cm]')\n",
    "axs[0, 0].set_ylabel('Długość płatka [cm]')\n",
    "\n",
    "# Znormalizowane dane w zakresie [0,1]\n",
    "scaler_01 = MinMaxScaler(feature_range=(0, 1))\n",
    "df_01 = df.copy()\n",
    "df_01[kolumny_do_normalizacji] = scaler_01.fit_transform(df_01[kolumny_do_normalizacji])\n",
    "\n",
    "axs[0, 1].scatter(df_01['petal_width'], df_01['petal_length'], c=df_01['species'].astype('category').cat.codes, cmap='viridis', alpha=0.5)\n",
    "axs[0, 1].set_title('Znormalizowane w zakresie [0, 1]')\n",
    "axs[0, 1].set_xlabel('Szerokość płatka [cm]')\n",
    "axs[0, 1].set_ylabel('Długość płatka [cm]')\n",
    "\n",
    "# Znormalizowane dane w zakresie [-1,1]\n",
    "scaler_neg_1_1 = MinMaxScaler(feature_range=(-1, 1))\n",
    "df_neg_1_1 = df.copy()\n",
    "df_neg_1_1[kolumny_do_normalizacji] = scaler_neg_1_1.fit_transform(df_neg_1_1[kolumny_do_normalizacji])\n",
    "\n",
    "axs[1, 0].scatter(df_neg_1_1['petal_width'], df_neg_1_1['petal_length'], c=df_neg_1_1['species'].astype('category').cat.codes, cmap='viridis', alpha=0.5)\n",
    "axs[1, 0].set_title('Znormalizowane w zakresie [-1, 1]')\n",
    "axs[1, 0].set_xlabel('Szerokość płatka [cm]')\n",
    "axs[1, 0].set_ylabel('Długość płatka [cm]')\n",
    "\n",
    "# Standaryzowane dane\n",
    "scaler = StandardScaler()\n",
    "df_standardized = df.copy()\n",
    "df_standardized[kolumny_do_normalizacji] = scaler.fit_transform(df_standardized[kolumny_do_normalizacji])\n",
    "\n",
    "axs[1, 1].scatter(df_standardized['petal_width'], df_standardized['petal_length'], c=df_standardized['species'].astype('category').cat.codes, cmap='viridis', alpha=0.5)\n",
    "axs[1, 1].set_title('Standaryzowane dane')\n",
    "axs[1, 1].set_xlabel('Szerokość płatka [cm]')\n",
    "axs[1, 1].set_ylabel('Długość płatka [cm]')\n",
    "\n",
    "# Ustawienia layoutu\n",
    "plt.tight_layout()\n",
    "plt.show()"
   ]
  },
  {
   "cell_type": "markdown",
   "metadata": {},
   "source": [
    "1.8. Narysować wykres zbiorczy, składający się z 4 wykresów, zależności długości\n",
    "kielicha [cm] od szerokości kielicha [cm] różnicowany na podstawie gatunku dla\n",
    "danych pierwotnych, znormalizowanych w zakresie [0,1], znormalizowanych w\n",
    "zakresie [-1,1] oraz standaryzowanych."
   ]
  },
  {
   "cell_type": "code",
   "execution_count": null,
   "metadata": {},
   "outputs": [],
   "source": [
    "# Tworzenie figury z 4 wykresami\n",
    "fig, axs = plt.subplots(2, 2, figsize=(12, 10))\n",
    "\n",
    "# Dane pierwotne\n",
    "axs[0, 0].scatter(df['sepal_width'], df['sepal_length'], c=df['species'].astype('category').cat.codes, cmap='viridis', alpha=0.5)\n",
    "axs[0, 0].set_title('Dane pierwotne')\n",
    "axs[0, 0].set_xlabel('Szerokość kielicha [cm]')\n",
    "axs[0, 0].set_ylabel('Długość kielicha [cm]')\n",
    "\n",
    "# Znormalizowane dane w zakresie [0, 1]\n",
    "scaler_01 = MinMaxScaler(feature_range=(0, 1))\n",
    "df_01 = df.copy()\n",
    "df_01[kolumny_do_normalizacji] = scaler_01.fit_transform(df_01[kolumny_do_normalizacji])\n",
    "\n",
    "axs[0, 1].scatter(df_01['sepal_width'], df_01['sepal_length'], c=df_01['species'].astype('category').cat.codes, cmap='viridis', alpha=0.5)\n",
    "axs[0, 1].set_title('Znormalizowane w zakresie [0, 1]')\n",
    "axs[0, 1].set_xlabel('Szerokość kielicha [cm]')\n",
    "axs[0, 1].set_ylabel('Długość kielicha [cm]')\n",
    "\n",
    "# Znormalizowane dane w zakresie [-1, 1]\n",
    "scaler_neg_1_1 = MinMaxScaler(feature_range=(-1, 1))\n",
    "df_neg_1_1 = df.copy()\n",
    "df_neg_1_1[kolumny_do_normalizacji] = scaler_neg_1_1.fit_transform(df_neg_1_1[kolumny_do_normalizacji])\n",
    "\n",
    "axs[1, 0].scatter(df_neg_1_1['sepal_width'], df_neg_1_1['sepal_length'], c=df_neg_1_1['species'].astype('category').cat.codes, cmap='viridis', alpha=0.5)\n",
    "axs[1, 0].set_title('Znormalizowane w zakresie [-1, 1]')\n",
    "axs[1, 0].set_xlabel('Szerokość kielicha [cm]')\n",
    "axs[1, 0].set_ylabel('Długość kielicha [cm]')\n",
    "\n",
    "# Standaryzowane dane\n",
    "scaler = StandardScaler()\n",
    "df_standardized = df.copy()\n",
    "df_standardized[kolumny_do_normalizacji] = scaler.fit_transform(df_standardized[kolumny_do_normalizacji])\n",
    "\n",
    "axs[1, 1].scatter(df_standardized['sepal_width'], df_standardized['sepal_length'], c=df_standardized['species'].astype('category').cat.codes, cmap='viridis', alpha=0.5)\n",
    "axs[1, 1].set_title('Standaryzowane dane')\n",
    "axs[1, 1].set_xlabel('Szerokość kielicha [cm]')\n",
    "axs[1, 1].set_ylabel('Długość kielicha [cm]')\n",
    "\n",
    "# Ustawienia layoutu\n",
    "plt.tight_layout()\n",
    "plt.show()"
   ]
  },
  {
   "cell_type": "markdown",
   "metadata": {},
   "source": [
    "Zbiór danych dotyczy serii zarejestrowanych pomiarów w postaci widm Ramana w czasie.\n",
    "Widmo Ramana to wykres intensywności rozproszonego promieniowania Ramana w\n",
    "funkcji różnicy częstotliwości w stosunku do promieniowania padającego. W pierwszym\n",
    "wierszu znajdują się jednostki (Wavenumber [cm^-1], Intensity [a.u.]), w drugim\n",
    "oznaczenia kolejnych pomiarów, ti. Pierwsza kolumna odnosi się do zakresu pomiarowego,\n",
    "w którym rejestrowane były widma (oś horyzontalna). Pozostałe kolumny odnoszą się do\n",
    "poszczególnych pomiarów. Należy wykonać następujące operacje:"
   ]
  },
  {
   "cell_type": "code",
   "execution_count": 9,
   "metadata": {},
   "outputs": [],
   "source": [
    "df1 = pd.read_csv('Zad2_L1.csv', sep=';', decimal=',')"
   ]
  },
  {
   "cell_type": "markdown",
   "metadata": {},
   "source": [
    "2.1. Przeprowadzić normalizację danych: każde widmo należy znormalizować do\n",
    "amplitudy pasma przy 985 cm-1\n",
    "\n",
    "(z wyłączeniem kolumny Wavenumber [cm^-1])."
   ]
  },
  {
   "cell_type": "code",
   "execution_count": null,
   "metadata": {},
   "outputs": [],
   "source": [
    "# Wyszukiwanie wiersza z wartością Wavenumber najbliższą 985 cm^-1\n",
    "target_wavenumber = 985\n",
    "idx_near_985 = (df1['Wavenumber [cm^-1]'] - target_wavenumber).abs().idxmin()\n",
    "\n",
    "# Wartości intensywności przy liczbie falowej 985 cm^-1\n",
    "intensity_at_985 = df1.loc[idx_near_985, df1.columns[1:]]\n",
    "\n",
    "df1_normalized = df1.copy()\n",
    "df1_normalized.iloc[:, 1:] = df1.iloc[:, 1:].div(intensity_at_985)\n",
    "\n",
    "# Wyświetlenie znormalizowanych danych\n",
    "print(df1_normalized)"
   ]
  },
  {
   "cell_type": "markdown",
   "metadata": {},
   "source": [
    "2.2. Narysować wykres zbiorczy składający się z 2 wykresów: widma dla danych\n",
    "surowych oraz widma znormalizowane."
   ]
  },
  {
   "cell_type": "code",
   "execution_count": null,
   "metadata": {},
   "outputs": [],
   "source": [
    "df1.columns = ['Wavenumber [cm^-1]', 't0', 't1', 't2', 't3', 't4', 't5']\n",
    "\n",
    "# Sprawdzenie poprawności po wczytaniu\n",
    "print(\"Pierwsze kilka wierszy danych po wczytaniu i pominięciu pierwszego wiersza:\")\n",
    "print(df1.head())\n",
    "\n",
    "# Normalizacja danych do amplitudy przy 985 cm^-1\n",
    "wavenumber_target = 985\n",
    "# Znajdź indeks najbliższy 985 cm^-1\n",
    "idx_near_985 = (df1['Wavenumber [cm^-1]'] - wavenumber_target).abs().idxmin()\n",
    "\n",
    "# Amplituda dla danych przy 985 cm^-1\n",
    "intensity_at_985 = df1.iloc[idx_near_985, 1:]\n",
    "\n",
    "# Normalizacja\n",
    "df1_normalized = df1.copy()\n",
    "df1_normalized.iloc[:, 1:] = df1_normalized.iloc[:, 1:].div(intensity_at_985.values)\n",
    "\n",
    "# Wykresy\n",
    "plt.figure(figsize=(14, 8))\n",
    "\n",
    "# Surowe dane\n",
    "plt.subplot(2, 1, 1)\n",
    "for column in df1.columns[1:]:\n",
    "    plt.plot(df1['Wavenumber [cm^-1]'], df1[column], label=column)\n",
    "plt.title('Surowe Widma Ramana')\n",
    "plt.xlabel('Wavenumber [cm^-1]')\n",
    "plt.ylabel('Intensity [a.u.]')\n",
    "plt.legend()\n",
    "plt.grid()\n",
    "\n",
    "# Znormalizowane dane\n",
    "plt.subplot(2, 1, 2)\n",
    "for column in df1_normalized.columns[1:]:\n",
    "    plt.plot(df1_normalized['Wavenumber [cm^-1]'], df1_normalized[column], label=f'Normalized {column}')\n",
    "plt.title('Znormalizowane Widma Ramana')\n",
    "plt.xlabel('Wavenumber [cm^-1]')\n",
    "plt.ylabel('Normalized Intensity [a.u.]')\n",
    "plt.legend()\n",
    "plt.grid()\n",
    "\n",
    "plt.tight_layout()\n",
    "plt.show()\n"
   ]
  },
  {
   "cell_type": "markdown",
   "metadata": {},
   "source": [
    "2.3. Jaka jest przyczyna zastosowania powyższego sposobu normalizacji?"
   ]
  },
  {
   "cell_type": "markdown",
   "metadata": {},
   "source": [
    "Przyczyny zastosowania normalizacji do amplitudy przy 985 cm⁻¹:\n",
    "\n",
    "Porównywalność widm: Normalizacja umożliwia porównanie intensywności różnych widm na tej samej skali, co ułatwia identyfikację różnic.\n",
    "\n",
    "Eliminacja wpływu warunków pomiarowych: Pomaga zredukować zmienne związane z różnymi warunkami eksperymentalnymi, co poprawia interpretację wyników.\n",
    "\n",
    "Skupienie na kształcie widma: Umożliwia analizę relacji między intensywnościami pików, co jest kluczowe w analizach chemicznych.\n",
    "\n",
    "Ułatwienie dalszej analizy: Normalizacja przygotowuje dane do zaawansowanych metod statystycznych, które lepiej działają na znormalizowanych danych.\n",
    "\n",
    "Identyfikacja anomalii: Ułatwia zauważenie nietypowych zmian, które mogą wskazywać na interesujące zjawiska chemiczne."
   ]
  }
 ],
 "metadata": {
  "kernelspec": {
   "display_name": "Python 3",
   "language": "python",
   "name": "python3"
  },
  "language_info": {
   "codemirror_mode": {
    "name": "ipython",
    "version": 3
   },
   "file_extension": ".py",
   "mimetype": "text/x-python",
   "name": "python",
   "nbconvert_exporter": "python",
   "pygments_lexer": "ipython3",
   "version": "3.11.5"
  }
 },
 "nbformat": 4,
 "nbformat_minor": 2
}
